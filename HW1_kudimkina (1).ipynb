{
 "cells": [
  {
   "cell_type": "code",
   "execution_count": null,
   "metadata": {},
   "outputs": [],
   "source": [
    "import cmath as cm\n",
    "import math\n",
    "b = float(input())\n",
    "c = float(input())\n",
    "def solve_quad(b,c):\n",
    "    d = b ** 2 - 4*c\n",
    "    if b ** 2 - 4*c == b ** 2:\n",
    "        x_1 = -b\n",
    "        x_2 = c/x_1\n",
    "        return x_1,x_2\n",
    "    if d == -4*c:\n",
    "        x_1 = (-b + cm.sqrt(d)) / 2\n",
    "        x_2 = (-b - cm.sqrt(d)) /2\n",
    "        return x_1, x_2\n",
    "    else:\n",
    "        if d < 0:\n",
    "            x_1 = (-b + cm.sqrt(d)) /2\n",
    "            x_2 = (-b - cm.sqrt(d)) / 2 \n",
    "            return x_1, x_2\n",
    "        elif d == 0:\n",
    "            x_1  = x_2 = -b / 2\n",
    "            return x_1, x_2\n",
    "        else:\n",
    "            x_1 = (-b + math.sqrt(d)) / 2\n",
    "            x_2 = (-b - math.sqrt(d)) / 2\n",
    "        return x_1,x_2\n",
    "print(solve_quad( b , c))\n"
   ]
  },
  {
   "cell_type": "code",
   "execution_count": null,
   "metadata": {},
   "outputs": [],
   "source": [
    "import numpy as np\n",
    "a = float(input())\n",
    "n = int(input())\n",
    "I = np.zeros(n)\n",
    "I[0] = np.log((1+ a)/a)\n",
    "\n",
    "for i in range(1, n):\n",
    "    I[i] = 1/i - a * I[i-1]\n",
    "\n",
    "print(I[n-1])"
   ]
  },
  {
   "cell_type": "code",
   "execution_count": null,
   "metadata": {},
   "outputs": [],
   "source": [
    "a = float(input())\n",
    "n = int(input())\n",
    "N = 100\n",
    "I = np.zeros(N)\n",
    "I[N-1] = 0\n",
    "for i in range (2, N):\n",
    "    I[N -i] = (1-(N-i)* I[N - i+ 1])/ ((N- i)*a)\n",
    "print(I[n])"
   ]
  },
  {
   "cell_type": "markdown",
   "metadata": {},
   "source": []
  },
  {
   "cell_type": "code",
   "execution_count": null,
   "metadata": {},
   "outputs": [],
   "source": []
  }
 ],
 "metadata": {
  "kernelspec": {
   "display_name": "Python 3",
   "language": "python",
   "name": "python3"
  },
  "language_info": {
   "codemirror_mode": {
    "name": "ipython",
    "version": 3
   },
   "file_extension": ".py",
   "mimetype": "text/x-python",
   "name": "python",
   "nbconvert_exporter": "python",
   "pygments_lexer": "ipython3",
   "version": "3.8.3"
  }
 },
 "nbformat": 4,
 "nbformat_minor": 4
}
